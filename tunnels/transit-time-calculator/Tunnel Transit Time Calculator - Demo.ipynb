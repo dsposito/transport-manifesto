{
 "cells": [
  {
   "cell_type": "markdown",
   "metadata": {},
   "source": [
    "# Tunnel Transit Time Calculator\n",
    "**Version: v0.1.0 (Alpha)**\n",
    "\n",
    "## Overview\n",
    "As stated in the [Transport Manifesto](https://github.com/dsposito/transport-manifesto), [tunnels](https://github.com/dsposito/transport-manifesto/tree/master/tunnels) are a mode of transport with a number of benefits. For example, tunnels can provide dramatically faster travel from point A to B due to 1.) the use of autonomous electric vehicles and 2.) support for higher speeds (155mph+).\n",
    "\n",
    "**The purpose of this interactive notebook is to:**\n",
    "1. Calculate the estimated time savings of traveling by tunnels vs traditional roadways\n",
    "2. Easily inspect, edit and evolve the underlying logic that drives the comparison calculations \\[[**view source code**](https://github.com/dsposito/transport-manifesto/blob/master/tunnels/transit-time-calculator/Tunnel%20Transit%20Time%20Calculator%20-%20Verbose.ipynb)]"
   ]
  },
  {
   "cell_type": "code",
   "execution_count": 1,
   "metadata": {},
   "outputs": [],
   "source": [
    "import math\n",
    "import os\n",
    "\n",
    "from dotenv import load_dotenv, find_dotenv\n",
    "import gmaps as gmaps_ui\n",
    "import googlemaps as gmaps_api\n",
    "import ipywidgets as widgets\n",
    "from IPython.display import display, Markdown as md"
   ]
  },
  {
   "cell_type": "code",
   "execution_count": 2,
   "metadata": {},
   "outputs": [],
   "source": [
    "load_dotenv(find_dotenv())\n",
    "\n",
    "gmaps_ui.configure(api_key=os.getenv(\"GMAPS_API_KEY\"))\n",
    "gmaps_api = gmaps_api.Client(key=os.getenv(\"GMAPS_API_KEY\"))"
   ]
  },
  {
   "cell_type": "code",
   "execution_count": 3,
   "metadata": {
    "scrolled": true
   },
   "outputs": [
    {
     "data": {
      "text/markdown": [
       "### Transit Time Comparison Calculator"
      ],
      "text/plain": [
       "<IPython.core.display.Markdown object>"
      ]
     },
     "metadata": {},
     "output_type": "display_data"
    },
    {
     "data": {
      "application/vnd.jupyter.widget-view+json": {
       "model_id": "c874a493cb5b453bb029be6d5fbdec13",
       "version_major": 2,
       "version_minor": 0
      },
      "text/plain": [
       "Text(value='Santa Monica, CA', description='Origin: ', layout=Layout(width='50%'))"
      ]
     },
     "metadata": {},
     "output_type": "display_data"
    },
    {
     "data": {
      "application/vnd.jupyter.widget-view+json": {
       "model_id": "f202221b614b4226ba532c291f203bd4",
       "version_major": 2,
       "version_minor": 0
      },
      "text/plain": [
       "Text(value='Downtown Los Angeles', description='Destination: ', layout=Layout(width='50%'))"
      ]
     },
     "metadata": {},
     "output_type": "display_data"
    },
    {
     "data": {
      "application/vnd.jupyter.widget-view+json": {
       "model_id": "97a5d8abbab243c292fecbe622f8d304",
       "version_major": 2,
       "version_minor": 0
      },
      "text/plain": [
       "Button(button_style='success', description='Calculate Route', style=ButtonStyle())"
      ]
     },
     "metadata": {},
     "output_type": "display_data"
    },
    {
     "data": {
      "application/vnd.jupyter.widget-view+json": {
       "model_id": "a055ed25e1c94437bf7a03514366225d",
       "version_major": 2,
       "version_minor": 0
      },
      "text/plain": [
       "Output()"
      ]
     },
     "metadata": {},
     "output_type": "display_data"
    }
   ],
   "source": [
    "def handle_form_submit(element):\n",
    "    \"\"\"Handles the click even for the submit button.\n",
    "    \"\"\"\n",
    "    \n",
    "    # Clear any existing output (e.g., from previous form submit).\n",
    "    form_output.clear_output()\n",
    "    \n",
    "    with form_output:\n",
    "        # Validate the form inputs.\n",
    "        if not input_origin.value or not input_destination.value:\n",
    "            print(\"Please enter a valid address and try again.\")\n",
    "            return\n",
    "\n",
    "        # Geocode the string addresses to coordinates (necessary for the gmaps widget).\n",
    "        origin = geocode_address(input_origin.value)\n",
    "        destination = geocode_address(input_destination.value)\n",
    "\n",
    "        if not origin or not destination:\n",
    "            print(\"Please enter a valid address and try again.\")\n",
    "            return\n",
    "\n",
    "        # Calculate road comparison metrics (e.g., distance and time) by creating driving directions via Google Maps API.\n",
    "        metrics_road = calculate_road_metrics(origin, destination)\n",
    "        if not metrics_road:\n",
    "            print(\"Unable to calculate road metrics.\")\n",
    "            return\n",
    "\n",
    "        # Calculate tunnel comparison metrics using the total distance queried from Google Maps API.\n",
    "        metrics_tunnel = calculate_tunnel_metrics(metrics_road[\"distance\"][\"value\"])\n",
    "\n",
    "        # Display the route in a Google Map and a table of comparison metrics.\n",
    "        display_map(origin, destination)\n",
    "        display_metrics(metrics_road, metrics_tunnel)\n",
    "\n",
    "# Create the form fields.\n",
    "input_origin = widgets.Text(description=\"Origin: \", value=\"Santa Monica, CA\", layout={'width': '50%'})\n",
    "input_destination = widgets.Text(description=\"Destination: \", value=\"Downtown Los Angeles\", layout={'width': '50%'})\n",
    "button_submit = widgets.Button(description=\"Calculate Route\", button_style=\"Success\")\n",
    "button_submit.on_click(handle_form_submit)\n",
    "form_output = widgets.Output()\n",
    "\n",
    "# Display the form.\n",
    "display(md(\"### Transit Time Comparison Calculator\"))\n",
    "display(input_origin, input_destination, button_submit, form_output)"
   ]
  },
  {
   "cell_type": "markdown",
   "metadata": {},
   "source": [
    "> **Note:** Checkout out the [**full source code notebook**](https://github.com/dsposito/transport-manifesto/blob/master/tunnels/transit-time-calculator/Tunnel%20Transit%20Time%20Calculator%20-%20Verbose.ipynb) for a walkthrough of how the comparison metrics are calculated."
   ]
  },
  {
   "cell_type": "code",
   "execution_count": 4,
   "metadata": {},
   "outputs": [],
   "source": [
    "def geocode_address(address: str) -> tuple:\n",
    "    \"\"\"Geocodes a string address into latitude/longitude coordinates.\n",
    "    \"\"\"\n",
    "    \n",
    "    response = gmaps_api.geocode(address)\n",
    "    if not response:\n",
    "        print(\"Unable to geocode address.\")\n",
    "        return\n",
    "\n",
    "    location = response[0][\"geometry\"][\"location\"]\n",
    "\n",
    "    return location[\"lat\"], location[\"lng\"]"
   ]
  },
  {
   "cell_type": "code",
   "execution_count": 5,
   "metadata": {},
   "outputs": [],
   "source": [
    "def calculate_road_metrics(origin: tuple, destination: tuple) -> dict:\n",
    "    \"\"\"Calculates metrics for traveling a route via traditional roadways.\n",
    "    \n",
    "    The Google Maps API is queried to determine the total distance from origin to destination.\n",
    "    \"\"\"\n",
    "    \n",
    "    METERS_PER_FOOT = 0.3048\n",
    "    FEET_PER_MILE = 5280\n",
    "    \n",
    "    CITY_TOP_SPEED = 40\n",
    "    HIGHWAY_TOP_SPEED = 65\n",
    "    \n",
    "    # Query Google Maps API for directions data - which includes total distance and time.\n",
    "    directions = gmaps_api.directions(origin, destination)\n",
    "    if not directions:\n",
    "        print(\"Unable to retrieve directions.\")\n",
    "        return\n",
    "    \n",
    "    # Convert distance from meters to miles.\n",
    "    distance_miles = int(directions[0][\"legs\"][0][\"distance\"][\"value\"] / METERS_PER_FOOT / FEET_PER_MILE)\n",
    "    \n",
    "    # Convert time from seconds to minutes.\n",
    "    time_minutes = directions[0][\"legs\"][0][\"duration\"][\"value\"] / 60\n",
    "    \n",
    "    # Calculate top speed by checking whether highway is used for any steps of the route.\n",
    "    speed_max = CITY_TOP_SPEED\n",
    "    for steps in directions[0][\"legs\"][0][\"steps\"]:\n",
    "        if \"ramp\" in steps.get(\"maneuver\", \"\"):\n",
    "            speed_max = HIGHWAY_TOP_SPEED\n",
    "            break\n",
    "    \n",
    "    # Calculate average speed: d = r*t\n",
    "    time_hours = time_minutes / 60\n",
    "    speed_avg = distance_miles / time_hours\n",
    "    \n",
    "    return {\n",
    "        \"distance\": {\n",
    "            \"unit\": \"mi\",\n",
    "            \"value\": round(distance_miles, 1),\n",
    "            \"raw\": distance_miles\n",
    "        },\n",
    "        \"time\": {\n",
    "            \"unit\": \"min\",\n",
    "            \"value\": round(time_minutes),\n",
    "            \"raw\": time_minutes\n",
    "        },\n",
    "        \"speed_max\": {\n",
    "            \"unit\": \"mph\",\n",
    "            \"value\": round(speed_max),\n",
    "            \"raw\": speed_max\n",
    "        },\n",
    "        \"speed_avg\": {\n",
    "            \"unit\": \"mph\",\n",
    "            \"value\": round(speed_avg),\n",
    "            \"raw\": speed_avg\n",
    "        }\n",
    "    }"
   ]
  },
  {
   "cell_type": "code",
   "execution_count": 6,
   "metadata": {},
   "outputs": [],
   "source": [
    "def simulate_tunnel_vehicle_kinematics(distance_trip: float) -> dict:\n",
    "    \"\"\"Simulates the acceleration of an AEV in a tunnel to determine the top speed and total time of travel.\n",
    "    \"\"\"\n",
    "    \n",
    "    # Assumptions for Tesla Model X vehicle.\n",
    "    VEHICLE_TOP_SPEED = 155 # mph\n",
    "    VEHICLE_TOP_SPEED_TIME = 45 # seconds (~0.157 g-force: http://www.procato.com/convert)\n",
    "\n",
    "    # Assume constant rate of acceleration/deceleration.\n",
    "    VEHICLE_DELTA_SPEED_TIME = VEHICLE_TOP_SPEED / VEHICLE_TOP_SPEED_TIME\n",
    "\n",
    "    speed_current = 0\n",
    "    for time_elapsed in range(0, VEHICLE_TOP_SPEED_TIME + 1):\n",
    "        # Calculate distance traveled up to this point using the kinematic displacement formula: d = 0.5 * v * t\n",
    "        velocity_current = speed_current / (60 * 60)\n",
    "        distance_current = 0.5 * velocity_current * time_elapsed\n",
    "\n",
    "        velocity_next = (speed_current + VEHICLE_DELTA_SPEED_TIME) / (60 * 60)\n",
    "        distance_next = 0.5 * velocity_next * (time_elapsed + 1)\n",
    "\n",
    "        # Cap the velocity if the upcoming distance traveled would be more than half\n",
    "        # of the total trip distance (outcome would be to begin decelerating).\n",
    "        if distance_next * 2 >= distance_trip:\n",
    "            distance_current = distance_trip / 2\n",
    "            velocity_current = distance_current / (60 * 60)\n",
    "\n",
    "            break\n",
    "\n",
    "        # Ensure current speed never exceeds top speed.\n",
    "        speed_current = min(speed_current + VEHICLE_DELTA_SPEED_TIME, VEHICLE_TOP_SPEED)\n",
    "        \n",
    "    return {\n",
    "        \"distance\": distance_current,\n",
    "        \"time\": time_elapsed,\n",
    "        \"mph_max\": speed_current,\n",
    "        \"velocity_max\": velocity_current\n",
    "    }"
   ]
  },
  {
   "cell_type": "code",
   "execution_count": 7,
   "metadata": {},
   "outputs": [],
   "source": [
    "def calculate_tunnel_metrics(distance_trip: float) -> dict:\n",
    "    \"\"\"Calculates metrics for traveling a route via tunnels.\n",
    "    \"\"\"\n",
    "    \n",
    "    acceleration = simulate_tunnel_vehicle_kinematics(distance_trip)\n",
    "    \n",
    "    # Miles\n",
    "    distance_accelerating = acceleration[\"distance\"]\n",
    "    distance_decelerating = acceleration[\"distance\"]\n",
    "    distance_cruising = distance_trip - distance_accelerating - distance_decelerating\n",
    "\n",
    "    # Seconds\n",
    "    time_accelerating = acceleration[\"time\"]\n",
    "    time_decelerating = acceleration[\"time\"]\n",
    "    time_cruising = distance_cruising / acceleration[\"velocity_max\"]\n",
    "    time_total = time_accelerating + time_cruising + time_decelerating\n",
    "\n",
    "    time_total_minutes = time_total / 60\n",
    "    time_total_hours = time_total_minutes / 60\n",
    "\n",
    "    speed_max = acceleration[\"mph_max\"]\n",
    "    speed_avg = distance_trip / time_total_hours\n",
    "\n",
    "    return {\n",
    "        \"distance\": {\n",
    "            \"unit\": \"mi\",\n",
    "            \"value\": round(distance_trip, 1),\n",
    "            \"raw\": distance_trip\n",
    "        },\n",
    "        \"time\": {\n",
    "            \"unit\": \"min\",\n",
    "            \"value\": math.ceil(time_total_minutes), # Round up for a more conservative estimate.\n",
    "            \"raw\": time_total_minutes\n",
    "        },\n",
    "        \"speed_max\": {\n",
    "            \"unit\": \"mph\",\n",
    "            \"value\": round(speed_max),\n",
    "            \"raw\": speed_max\n",
    "        },\n",
    "        \"speed_avg\": {\n",
    "            \"unit\": \"mph\",\n",
    "            \"value\": round(speed_avg),\n",
    "            \"raw\": speed_avg\n",
    "        }\n",
    "    }"
   ]
  },
  {
   "cell_type": "code",
   "execution_count": 8,
   "metadata": {},
   "outputs": [],
   "source": [
    "def display_map(origin: tuple, destination: tuple):\n",
    "    route = gmaps_ui.directions_layer(origin, destination)\n",
    "\n",
    "    map = gmaps_ui.figure()\n",
    "    map.add_layer(route)\n",
    "    display(map)\n",
    "\n",
    "def display_metrics(road: dict, tunnel: dict):\n",
    "    comparison = f\"\"\"| Metric | Road | Tunnel |\n",
    "    | --- | --- | --- |\n",
    "    | Distance | {road['distance']['value']} {road['distance']['unit']} | {tunnel['distance']['value']} {tunnel['distance']['unit']} |\n",
    "    | Top Speed | {road['speed_max']['value']} {road['speed_max']['unit']} | {tunnel['speed_max']['value']} {tunnel['speed_max']['unit']} |\n",
    "    | Avg Speed | {road['speed_avg']['value']} {road['speed_avg']['unit']} | {tunnel['speed_avg']['value']} {tunnel['speed_avg']['unit']} |\n",
    "    | **Transit Time** | **{road['time']['value']} {road['time']['unit']}** | **{tunnel['time']['value']} {tunnel['time']['unit']}** |\"\"\"\n",
    "\n",
    "    time_saved = road['time']['value'] - tunnel['time']['value']\n",
    "    unit = \"minutes\"\n",
    "    if time_saved > 60:\n",
    "        time_saved /= 60\n",
    "        unit = \"hours\"\n",
    "    \n",
    "    # Render the comparison metrics as a markdown table.\n",
    "    display(md(\"### Traditional Roads vs Tunnels Comparison\"))   \n",
    "    display(md(f\"**Total Time Saved via Tunnels:** {time_saved} {unit}\"))\n",
    "    display(md(\"<br>\"))\n",
    "    display(md(comparison))"
   ]
  }
 ],
 "metadata": {
  "kernelspec": {
   "display_name": "Python 3",
   "language": "python",
   "name": "python3"
  },
  "language_info": {
   "codemirror_mode": {
    "name": "ipython",
    "version": 3
   },
   "file_extension": ".py",
   "mimetype": "text/x-python",
   "name": "python",
   "nbconvert_exporter": "python",
   "pygments_lexer": "ipython3",
   "version": "3.7.3"
  }
 },
 "nbformat": 4,
 "nbformat_minor": 4
}
