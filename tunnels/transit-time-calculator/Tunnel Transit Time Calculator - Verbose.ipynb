{
 "cells": [
  {
   "cell_type": "markdown",
   "metadata": {},
   "source": [
    "# Tunnel Transit Time Calculator\n",
    "## Overview\n",
    "As stated in the [Transport Manifesto](https://github.com/dsposito/transport-manifesto), [tunnels](https://github.com/dsposito/transport-manifesto/tree/master/tunnels) are a mode of transport with a number of benefits. For example, tunnels can provide dramatically faster travel from point A to B due to 1.) its use of autonomous electric vehicles and 2.) support for higher speeds (155mph+).\n",
    "\n",
    "**The purpose of this interactive notebook is to:**\n",
    "1. Calculate the estimated time savings of traveling by tunnels vs traditional roadways\n",
    "2. Easily inspect, edit and evolve the underlying logic that drives the comparison calculations\n",
    "\n",
    "## Demo\n",
    "\n",
    "> **Try the interactive calculator: [https://tunnel-transit-time-calculator.herokuapp.com](https://tunnel-transit-time-calculator.herokuapp.com)**\n",
    "\n",
    "_Continue reading below for a walkthrough of how the comparison metrics are calculated._\n",
    "\n",
    "## Installation\n",
    "Follow these instructions if you want to run and edit this notebook locally:\n",
    "\n",
    "> This notebook uses the Google Maps API. Create your key using Google's [Developer Console](https://console.developers.google.com/flows/enableapi?apiid=maps_backend,geocoding_backend,directions_backend,distance_matrix_backend,elevation_backend&keyType=CLIENT_SIDE&reusekey=true).\n",
    "\n",
    "0. Add your Google Maps API key as the value for `GMAPS_API_KEY` in the `tunnels/.env` file\n",
    "1. From the repo's root directory, install the dependencies: `pip install -r requirements.txt`\n",
    "2. Navigate to the `transit-time-calculator` directory\n",
    "3. Enable the [ipywidgets](https://ipywidgets.readthedocs.io) extension: `jupyter nbextension enable --py --sys-prefix widgetsnbextension`\n",
    "4. Enable the [gmaps](https://jupyter-gmaps.readthedocs.io) widget extension: `jupyter nbextension enable --py --sys-prefix gmaps`\n",
    "5. Run the notebook: `jupyter notebook`\n",
    "\n",
    "## Code Walkthrough\n",
    "\n",
    "At a high level, there are three major code components:\n",
    "1. Displaying a form to input an origin and destination address\n",
    "2. Displaying the route via Google Maps + determining the total distance to travel\n",
    "3. Displaying comparison metrics for traveling by roadways vs tunnels"
   ]
  },
  {
   "cell_type": "markdown",
   "metadata": {},
   "source": [
    "### Imports\n",
    "Import the relevant modules and packages."
   ]
  },
  {
   "cell_type": "code",
   "execution_count": 1,
   "metadata": {},
   "outputs": [],
   "source": [
    "import math\n",
    "import os\n",
    "\n",
    "from dotenv import load_dotenv, find_dotenv\n",
    "import gmaps as gmaps_ui\n",
    "import googlemaps as gmaps_api\n",
    "import ipywidgets as widgets\n",
    "from IPython.display import display, Markdown as md"
   ]
  },
  {
   "cell_type": "markdown",
   "metadata": {},
   "source": [
    "### APIs\n",
    "Init the Google Maps widget and backend API clients with credentials."
   ]
  },
  {
   "cell_type": "code",
   "execution_count": 2,
   "metadata": {},
   "outputs": [],
   "source": [
    "load_dotenv(find_dotenv())\n",
    "\n",
    "gmaps_ui.configure(api_key=os.getenv(\"GMAPS_API_KEY\"))\n",
    "gmaps_api = gmaps_api.Client(key=os.getenv(\"GMAPS_API_KEY\"))"
   ]
  },
  {
   "cell_type": "markdown",
   "metadata": {},
   "source": [
    "### Form Input UI\n",
    "This notebook uses [ipywidgets](https://ipywidgets.readthedocs.io) to render special interactive widgets like Google Maps.\n",
    "\n",
    "**They don't render natively on GitHub but will load locally or via binder.**\n",
    "\n",
    "Display text inputs for origin and destination addresses. Also register the function that gets called when the \"Calculate Route\" button is clicked."
   ]
  },
  {
   "cell_type": "code",
   "execution_count": 9,
   "metadata": {
    "scrolled": false
   },
   "outputs": [
    {
     "data": {
      "text/markdown": [
       "### Transit Time Comparison Calculator"
      ],
      "text/plain": [
       "<IPython.core.display.Markdown object>"
      ]
     },
     "metadata": {},
     "output_type": "display_data"
    },
    {
     "data": {
      "text/markdown": [
       "**Give it a try!**"
      ],
      "text/plain": [
       "<IPython.core.display.Markdown object>"
      ]
     },
     "metadata": {},
     "output_type": "display_data"
    },
    {
     "data": {
      "application/vnd.jupyter.widget-view+json": {
       "model_id": "7ad28f5b87d045b48413bb78ea5dff80",
       "version_major": 2,
       "version_minor": 0
      },
      "text/plain": [
       "Text(value='Santa Monica, CA', description='Origin: ', layout=Layout(width='50%'))"
      ]
     },
     "metadata": {},
     "output_type": "display_data"
    },
    {
     "data": {
      "application/vnd.jupyter.widget-view+json": {
       "model_id": "813f7ac0a44b418e86d914954937cc20",
       "version_major": 2,
       "version_minor": 0
      },
      "text/plain": [
       "Text(value='Downtown Los Angeles', description='Destination: ', layout=Layout(width='50%'))"
      ]
     },
     "metadata": {},
     "output_type": "display_data"
    },
    {
     "data": {
      "application/vnd.jupyter.widget-view+json": {
       "model_id": "633cfd2ddb8047cb8bb9204c91721b58",
       "version_major": 2,
       "version_minor": 0
      },
      "text/plain": [
       "Button(button_style='success', description='Calculate Route', style=ButtonStyle())"
      ]
     },
     "metadata": {},
     "output_type": "display_data"
    },
    {
     "data": {
      "application/vnd.jupyter.widget-view+json": {
       "model_id": "33a22e2ddf1a4c859a42b7565605667a",
       "version_major": 2,
       "version_minor": 0
      },
      "text/plain": [
       "Output()"
      ]
     },
     "metadata": {},
     "output_type": "display_data"
    }
   ],
   "source": [
    "def handle_form_submit(element):\n",
    "    \"\"\"Handles the click even for the submit button.\n",
    "    \"\"\"\n",
    "    \n",
    "    # Clear any existing output (e.g., from previous form submit).\n",
    "    form_output.clear_output()\n",
    "    \n",
    "    with form_output:\n",
    "        # Validate the form inputs.\n",
    "        if not input_origin.value or not input_destination.value:\n",
    "            print(\"Please enter a valid address and try again.\")\n",
    "            return\n",
    "\n",
    "        # Geocode the string addresses to coordinates (necessary for the gmaps widget).\n",
    "        origin = geocode_address(input_origin.value)\n",
    "        destination = geocode_address(input_destination.value)\n",
    "\n",
    "        if not origin or not destination:\n",
    "            print(\"Please enter a valid address and try again.\")\n",
    "            return\n",
    "\n",
    "        # Calculate road comparison metrics (e.g., distance and time) by creating driving directions via Google Maps API.\n",
    "        metrics_road = calculate_road_metrics(origin, destination)\n",
    "        if not metrics_road:\n",
    "            print(\"Unable to calculate road metrics.\")\n",
    "            return\n",
    "\n",
    "        # Calculate tunnel comparison metrics using the total distance queried from Google Maps API.\n",
    "        metrics_tunnel = calculate_tunnel_metrics(metrics_road[\"distance\"][\"value\"])\n",
    "\n",
    "        # Display the route in a Google Map and a table of comparison metrics.\n",
    "        display_map(origin, destination)\n",
    "        display_metrics(metrics_road, metrics_tunnel)\n",
    "\n",
    "# Create the form fields.\n",
    "input_origin = widgets.Text(description=\"Origin: \", value=\"Santa Monica, CA\", layout={'width': '50%'})\n",
    "input_destination = widgets.Text(description=\"Destination: \", value=\"Downtown Los Angeles\", layout={'width': '50%'})\n",
    "button_submit = widgets.Button(description=\"Calculate Route\", button_style=\"Success\")\n",
    "button_submit.on_click(handle_form_submit)\n",
    "\n",
    "# Display the form.\n",
    "display(md(\"### Transit Time Comparison Calculator\"))\n",
    "display(md(\"**Give it a try!**\"))\n",
    "form_output = widgets.Output()\n",
    "\n",
    "display(input_origin, input_destination, button_submit, form_output)"
   ]
  },
  {
   "cell_type": "markdown",
   "metadata": {},
   "source": [
    "### Geocoding\n",
    "Define a simple helper method to geocode a string address into its latitude/longitude coordinates. This is required for the gmaps widget."
   ]
  },
  {
   "cell_type": "code",
   "execution_count": 4,
   "metadata": {},
   "outputs": [],
   "source": [
    "def geocode_address(address: str) -> tuple:\n",
    "    \"\"\"Geocodes a string address into latitude/longitude coordinates.\n",
    "    \"\"\"\n",
    "    \n",
    "    response = gmaps_api.geocode(address)\n",
    "    if not response:\n",
    "        print(\"Unable to geocode address.\")\n",
    "        return\n",
    "\n",
    "    location = response[0][\"geometry\"][\"location\"]\n",
    "\n",
    "    return location[\"lat\"], location[\"lng\"]"
   ]
  },
  {
   "cell_type": "markdown",
   "metadata": {},
   "source": [
    "### Core Logic: Calculating Roadway Metrics\n",
    "To avoid the complexity of land ownership rights, this model assumes tunnels are underground along the path of public right-of-way highways and city streets.\n",
    "\n",
    "Therefore, the Google Maps API is used to determine the route for BOTH traditional roadway and tunnel transit (the latter would be underground of course). This is an oversimplification given that high-speed tunnels will need to avoid sharp turns. However, it's directionally accurate and a future iteration of this notebook could create a more realistic path.\n",
    "\n",
    "This method determines the total distance and time via Google Maps API and calculates other metrics such as speed."
   ]
  },
  {
   "cell_type": "code",
   "execution_count": 5,
   "metadata": {},
   "outputs": [],
   "source": [
    "def calculate_road_metrics(origin: tuple, destination: tuple) -> dict:\n",
    "    \"\"\"Calculates metrics for traveling a route via traditional roadways.\n",
    "    \n",
    "    The Google Maps API is queried to determine the total distance from origin to destination.\n",
    "    \"\"\"\n",
    "    \n",
    "    METERS_PER_FOOT = 0.3048\n",
    "    FEET_PER_MILE = 5280\n",
    "    \n",
    "    CITY_TOP_SPEED = 40\n",
    "    HIGHWAY_TOP_SPEED = 65\n",
    "    \n",
    "    # Query Google Maps API for directions data - which includes total distance and time.\n",
    "    directions = gmaps_api.directions(origin, destination)\n",
    "    if not directions:\n",
    "        print(\"Unable to retrieve directions.\")\n",
    "        return\n",
    "    \n",
    "    # Convert distance from meters to miles.\n",
    "    distance_miles = int(directions[0][\"legs\"][0][\"distance\"][\"value\"] / METERS_PER_FOOT / FEET_PER_MILE)\n",
    "    \n",
    "    # Convert time from seconds to minutes.\n",
    "    time_minutes = directions[0][\"legs\"][0][\"duration\"][\"value\"] / 60\n",
    "    \n",
    "    # Calculate top speed by checking whether highway is used for any steps of the route.\n",
    "    speed_max = CITY_TOP_SPEED\n",
    "    for steps in directions[0][\"legs\"][0][\"steps\"]:\n",
    "        if \"ramp\" in steps.get(\"maneuver\", \"\"):\n",
    "            speed_max = HIGHWAY_TOP_SPEED\n",
    "            break\n",
    "    \n",
    "    # Calculate average speed: d = r*t\n",
    "    time_hours = time_minutes / 60\n",
    "    speed_avg = distance_miles / time_hours\n",
    "    \n",
    "    return {\n",
    "        \"distance\": {\n",
    "            \"unit\": \"mi\",\n",
    "            \"value\": round(distance_miles, 1),\n",
    "            \"raw\": distance_miles\n",
    "        },\n",
    "        \"time\": {\n",
    "            \"unit\": \"min\",\n",
    "            \"value\": round(time_minutes),\n",
    "            \"raw\": time_minutes\n",
    "        },\n",
    "        \"speed_max\": {\n",
    "            \"unit\": \"mph\",\n",
    "            \"value\": round(speed_max),\n",
    "            \"raw\": speed_max\n",
    "        },\n",
    "        \"speed_avg\": {\n",
    "            \"unit\": \"mph\",\n",
    "            \"value\": round(speed_avg),\n",
    "            \"raw\": speed_avg\n",
    "        }\n",
    "    }"
   ]
  },
  {
   "cell_type": "markdown",
   "metadata": {},
   "source": [
    "### Core Logic: Simulating Tunnel Vehicle Kinematics\n",
    "Using the trip distance from the Google Maps route, we calculate the total time to travel the entire distance based on a few assumptions such as rate of acceleration and max speed allowed within the tunnel.\n",
    "\n",
    "This assumes the travel time is composed of three elements:\n",
    "1. **Departure:** Time accelerating from 0mph up to top speed\n",
    "2. **Cruising:** Time spent at top speed\n",
    "3. **Arrival:** Time decelerating to 0mph\n",
    "\n",
    "The [**kinematic displacement formula**](https://www.khanacademy.org/science/physics/one-dimensional-motion/kinematic-formulas/a/what-are-the-kinematic-formulas) is used to calculate the total distance traveled during acceleration / deceleration (which is then used to calculate total travel time for the three elements above).\n",
    "\n",
    "\\begin{equation*}\n",
    "\\Delta x = \\Bigl(\\frac{v + v_0}{2}\\Bigr) t \n",
    "\\end{equation*}\n",
    "\n",
    "The initial distance traveled is recalculated during *each second of acceleration* to determine the max vehicle velocity / speed reached - assuming the same amount of time is needed to fully decelerate to a stop when arriving at the destination.\n",
    "\n",
    "> For example, it takes approximately 1 mile to accelerate to 155mph in 45 seconds. Therefore, if the total trip distance is only **1 mile** then the vehicle will only be able to reach a max speed of **~110mph** by the time it reaches halfway (0.5 miles) at which point it will need to begin decelerating."
   ]
  },
  {
   "cell_type": "code",
   "execution_count": 6,
   "metadata": {},
   "outputs": [],
   "source": [
    "def simulate_tunnel_vehicle_kinematics(distance_trip: float) -> dict:\n",
    "    \"\"\"Simulates the acceleration of an AEV in a tunnel to determine the top speed and total time of travel.\n",
    "    \"\"\"\n",
    "    \n",
    "    # Assumptions for Tesla Model X vehicle.\n",
    "    VEHICLE_TOP_SPEED = 155 # mph\n",
    "    VEHICLE_TOP_SPEED_TIME = 45 # seconds (~0.157 g-force: http://www.procato.com/convert)\n",
    "\n",
    "    # Assume constant rate of acceleration/deceleration.\n",
    "    VEHICLE_DELTA_SPEED_TIME = VEHICLE_TOP_SPEED / VEHICLE_TOP_SPEED_TIME\n",
    "\n",
    "    speed_current = 0\n",
    "    for time_elapsed in range(0, VEHICLE_TOP_SPEED_TIME + 1):\n",
    "        # Calculate distance traveled up to this point using the kinematic displacement formula: d = 0.5 * v * t\n",
    "        velocity_current = speed_current / (60 * 60)\n",
    "        distance_current = 0.5 * velocity_current * time_elapsed\n",
    "\n",
    "        velocity_next = (speed_current + VEHICLE_DELTA_SPEED_TIME) / (60 * 60)\n",
    "        distance_next = 0.5 * velocity_next * (time_elapsed + 1)\n",
    "\n",
    "        # Cap the velocity if the upcoming distance traveled would be more than half\n",
    "        # of the total trip distance (outcome would be to begin decelerating).\n",
    "        if distance_next * 2 >= distance_trip:\n",
    "            distance_current = distance_trip / 2\n",
    "            velocity_current = distance_current / (60 * 60)\n",
    "\n",
    "            break\n",
    "\n",
    "        # Ensure current speed never exceeds top speed.\n",
    "        speed_current = min(speed_current + VEHICLE_DELTA_SPEED_TIME, VEHICLE_TOP_SPEED)\n",
    "        \n",
    "    return {\n",
    "        \"distance\": distance_current,\n",
    "        \"time\": time_elapsed,\n",
    "        \"mph_max\": speed_current,\n",
    "        \"velocity_max\": velocity_current\n",
    "    }"
   ]
  },
  {
   "cell_type": "markdown",
   "metadata": {},
   "source": [
    "### Core Logic: Calculating Tunnel Metrics\n",
    "Using the the acceleration kinematics as a base, calculate the total time to travel the trip distance."
   ]
  },
  {
   "cell_type": "code",
   "execution_count": 7,
   "metadata": {},
   "outputs": [],
   "source": [
    "def calculate_tunnel_metrics(distance_trip: float) -> dict:\n",
    "    \"\"\"Calculates metrics for traveling a route via tunnels.\n",
    "    \"\"\"\n",
    "    \n",
    "    acceleration = simulate_tunnel_vehicle_kinematics(distance_trip)\n",
    "    \n",
    "    # Miles\n",
    "    distance_accelerating = acceleration[\"distance\"]\n",
    "    distance_decelerating = acceleration[\"distance\"]\n",
    "    distance_cruising = distance_trip - distance_accelerating - distance_decelerating\n",
    "\n",
    "    # Seconds\n",
    "    time_accelerating = acceleration[\"time\"]\n",
    "    time_decelerating = acceleration[\"time\"]\n",
    "    time_cruising = distance_cruising / acceleration[\"velocity_max\"]\n",
    "    time_total = time_accelerating + time_cruising + time_decelerating\n",
    "\n",
    "    time_total_minutes = time_total / 60\n",
    "    time_total_hours = time_total_minutes / 60\n",
    "\n",
    "    speed_max = acceleration[\"mph_max\"]\n",
    "    speed_avg = distance_trip / time_total_hours\n",
    "\n",
    "    return {\n",
    "        \"distance\": {\n",
    "            \"unit\": \"mi\",\n",
    "            \"value\": round(distance_trip, 1),\n",
    "            \"raw\": distance_trip\n",
    "        },\n",
    "        \"time\": {\n",
    "            \"unit\": \"min\",\n",
    "            \"value\": math.ceil(time_total_minutes), # Round up for a more conservative estimate.\n",
    "            \"raw\": time_total_minutes\n",
    "        },\n",
    "        \"speed_max\": {\n",
    "            \"unit\": \"mph\",\n",
    "            \"value\": round(speed_max),\n",
    "            \"raw\": speed_max\n",
    "        },\n",
    "        \"speed_avg\": {\n",
    "            \"unit\": \"mph\",\n",
    "            \"value\": round(speed_avg),\n",
    "            \"raw\": speed_avg\n",
    "        }\n",
    "    }"
   ]
  },
  {
   "cell_type": "markdown",
   "metadata": {},
   "source": [
    "### Output UI\n",
    "Define helper methods to display the Google Map and table of comparison metrics."
   ]
  },
  {
   "cell_type": "code",
   "execution_count": 8,
   "metadata": {},
   "outputs": [],
   "source": [
    "def display_map(origin: tuple, destination: tuple):\n",
    "    route = gmaps_ui.directions_layer(origin, destination)\n",
    "\n",
    "    map = gmaps_ui.figure()\n",
    "    map.add_layer(route)\n",
    "    display(map)\n",
    "\n",
    "def display_metrics(road: dict, tunnel: dict):\n",
    "    comparison = f\"\"\"| Metric | Road | Tunnel |\n",
    "    | --- | --- | --- |\n",
    "    | Distance | {road['distance']['value']} {road['distance']['unit']} | {tunnel['distance']['value']} {tunnel['distance']['unit']} |\n",
    "    | Top Speed | {road['speed_max']['value']} {road['speed_max']['unit']} | {tunnel['speed_max']['value']} {tunnel['speed_max']['unit']} |\n",
    "    | Avg Speed | {road['speed_avg']['value']} {road['speed_avg']['unit']} | {tunnel['speed_avg']['value']} {tunnel['speed_avg']['unit']} |\n",
    "    | **Transit Time** | **{road['time']['value']} {road['time']['unit']}** | **{tunnel['time']['value']} {tunnel['time']['unit']}** |\"\"\"\n",
    "\n",
    "    time_saved = road['time']['value'] - tunnel['time']['value']\n",
    "    unit = \"minutes\"\n",
    "    if time_saved > 60:\n",
    "        time_saved /= 60\n",
    "        unit = \"hours\"\n",
    "    \n",
    "    # Render the comparison metrics as a markdown table.\n",
    "    display(md(\"### Traditional Roads vs Tunnels Comparison\"))   \n",
    "    display(md(f\"**Total Time Saved via Tunnels:** {time_saved} {unit}\"))\n",
    "    display(md(\"<br>\"))\n",
    "    display(md(comparison))"
   ]
  },
  {
   "cell_type": "code",
   "execution_count": null,
   "metadata": {},
   "outputs": [],
   "source": []
  }
 ],
 "metadata": {
  "kernelspec": {
   "display_name": "Python 3",
   "language": "python",
   "name": "python3"
  },
  "language_info": {
   "codemirror_mode": {
    "name": "ipython",
    "version": 3
   },
   "file_extension": ".py",
   "mimetype": "text/x-python",
   "name": "python",
   "nbconvert_exporter": "python",
   "pygments_lexer": "ipython3",
   "version": "3.7.3"
  }
 },
 "nbformat": 4,
 "nbformat_minor": 4
}
